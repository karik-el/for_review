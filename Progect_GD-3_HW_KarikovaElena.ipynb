{
 "cells": [
  {
   "cell_type": "code",
   "execution_count": 1,
   "metadata": {},
   "outputs": [],
   "source": [
    "import pandas as pd"
   ]
  },
  {
   "cell_type": "code",
   "execution_count": 2,
   "metadata": {},
   "outputs": [],
   "source": [
    "import warnings\n",
    "warnings.filterwarnings(\"ignore\")"
   ]
  },
  {
   "cell_type": "markdown",
   "metadata": {},
   "source": [
    "## Таблица *Event*\n",
    "    Хранит данные о событиях, которые совершают пользователи. По сути, каждое событие — это факт прохождения пользователем какого-либо этапа игры.\n",
    "\n",
    "    Название поля\t Описание\n",
    "    id\t            идентификатор события\n",
    "    user_id\t       уникальный идентификатор пользователя, совершившего событие в приложении\n",
    "    start_time\t    дата и время события\n",
    "    event_type\t    тип события \n",
    "                (значения: registration — регистрация; \n",
    "                tutorial_start — начало обучения; \n",
    "                tutorial_finish — завершение обучения; \n",
    "                level_choice — выбор уровня сложности; \n",
    "                pack_choice — выбор пакетов вопросов)\n",
    "    tutorial_id\t   идентификатор обучения (этот идентификатор есть только у событий обучения)\n",
    "    selected_level\tвыбранный уровень сложности обучения"
   ]
  },
  {
   "cell_type": "code",
   "execution_count": 3,
   "metadata": {},
   "outputs": [],
   "source": [
    "events = pd.read_csv('Events.csv', sep=',')\n",
    "events_2018 = (events.start_time>='2018-01-01') & (events.start_time<'2019-01-01') & (events.event_type=='registration')\n",
    "registered = events[events_2018]['user_id'].to_list() # список пользователей, зарег. в 2018\n",
    "events_df = events[events.user_id.isin(registered)]\n",
    "events_df['start_time'] = pd.to_datetime(events_df['start_time'])"
   ]
  },
  {
   "cell_type": "markdown",
   "metadata": {},
   "source": [
    "## Таблица *purchase*\n",
    "    Хранит данные об оплатах, которые совершают пользователи.\n",
    "\n",
    "    Название поля\t Описание\n",
    "    id\t            идентификатор события\n",
    "    user_id\t       уникальный идентификатор пользователя, совершившего событие в приложении\n",
    "    event_datetime\tдата и время события/покупки\n",
    "    amount\t        сумма оплаты"
   ]
  },
  {
   "cell_type": "code",
   "execution_count": 4,
   "metadata": {},
   "outputs": [],
   "source": [
    "purchase = pd.read_csv('purchase.csv', sep=',')\n",
    "purchase['event_datetime'] = pd.to_datetime(purchase['event_datetime'])\n",
    "purchase_df = purchase[purchase.user_id.isin(registered)]\n",
    "purchase_df['event_type'] = 'purchase' # Добавляем в датафрейм purchase_df столбец event_type, который будет содержать одно значение purchase.\n",
    "                                       # Это нужно, чтобы в объединённом датафрейме однозначно выделить события оплаты.\n"
   ]
  },
  {
   "cell_type": "code",
   "execution_count": 5,
   "metadata": {},
   "outputs": [],
   "source": [
    "events_df = events_df.rename(columns={\"id\": \"event_id\"})\n",
    "purchase_df = purchase_df.rename(columns={\"id\": \"purchase_id\"})"
   ]
  },
  {
   "cell_type": "code",
   "execution_count": 6,
   "metadata": {},
   "outputs": [],
   "source": [
    "total_events_df = pd.concat([events_df,purchase_df],sort=False) # объединение датафреймов\n",
    "total_events_df = total_events_df.reset_index(drop=True).sort_values('start_time') # сброс индексов + сортировка событий по возрастанию времени"
   ]
  },
  {
   "cell_type": "markdown",
   "metadata": {},
   "source": [
    "## ЗАДАНИЕ\n",
    "Необходимо проверить:\n",
    "\n",
    "- есть ли зависимость между выбранным уровнем сложности и вероятностью оплаты;\n",
    "- различается ли временной промежуток между выбором уровня сложности и оплатой у групп пользователей с разным уровнем сложности\n",
    "- различается ли временной промежуток между регистрацией и оплатой у групп пользователей с разным уровнем сложности."
   ]
  },
  {
   "cell_type": "markdown",
   "metadata": {},
   "source": [
    "### Зависимость между выбранным уровнем сложности и вероятностью оплаты"
   ]
  },
  {
   "cell_type": "markdown",
   "metadata": {},
   "source": [
    "#### Уровень сложности easy"
   ]
  },
  {
   "cell_type": "code",
   "execution_count": 7,
   "metadata": {},
   "outputs": [],
   "source": [
    "selected_level_easy_df = total_events_df[total_events_df[\"selected_level\"] == \"easy\"] # Создаем датафрейм, с выбором уровня \"easy\""
   ]
  },
  {
   "cell_type": "code",
   "execution_count": 8,
   "metadata": {},
   "outputs": [
    {
     "name": "stdout",
     "output_type": "stream",
     "text": [
      "Процент пользователей, которые оплатили тренировки (от числа пользователей с уровнем сложности easy): 7.72%\n"
     ]
    }
   ],
   "source": [
    "selected_level_easy_users = selected_level_easy_df[\"user_id\"].unique()\n",
    "len(selected_level_easy_users) # кол-во пользователей с уровнем easy\n",
    "\n",
    "purchase_df_easy = purchase_df[purchase_df[\"user_id\"].isin(selected_level_easy_users)] # датафрейм с оплатой\n",
    "purchase_df_easy['user_id'].nunique() #кол-во пользователей с оплатой  и уровнем easy\n",
    "\n",
    "percent_of_purchase_easy = purchase_df_easy[\"user_id\"].nunique() / len(\n",
    "    selected_level_easy_users\n",
    ")\n",
    "print(\n",
    "    \"Процент пользователей, которые оплатили тренировки (от числа пользователей с уровнем сложности easy): {:.2%}\".format(\n",
    "        percent_of_purchase_easy\n",
    "    )\n",
    ")"
   ]
  },
  {
   "cell_type": "code",
   "execution_count": 9,
   "metadata": {},
   "outputs": [
    {
     "data": {
      "text/plain": [
       "114.95"
      ]
     },
     "execution_count": 9,
     "metadata": {},
     "output_type": "execute_result"
    }
   ],
   "source": [
    "round(purchase_df_easy['amount'].mean(), 2) # средний размер оплаты"
   ]
  },
  {
   "cell_type": "markdown",
   "metadata": {},
   "source": [
    "#### Уровень сложности medium"
   ]
  },
  {
   "cell_type": "code",
   "execution_count": 10,
   "metadata": {},
   "outputs": [],
   "source": [
    "selected_level_medium_df = total_events_df[total_events_df[\"selected_level\"] == \"medium\"] # Создаем датафрейм, с выбором уровня \"medium\""
   ]
  },
  {
   "cell_type": "code",
   "execution_count": 11,
   "metadata": {},
   "outputs": [
    {
     "name": "stdout",
     "output_type": "stream",
     "text": [
      "Процент пользователей, которые оплатили тренировки (от числа пользователей с уровнем сложности medium): 20.86%\n"
     ]
    }
   ],
   "source": [
    "selected_level_medium_users = selected_level_medium_df[\"user_id\"].unique()\n",
    "len(selected_level_medium_users) # кол-во пользователей с уровнем medium\n",
    "\n",
    "purchase_df_medium = purchase_df[purchase_df[\"user_id\"].isin(selected_level_medium_users)] # датафрейм с оплатой\n",
    "purchase_df_medium['user_id'].nunique() #кол-во пользователей с оплатой  и уровнем medium\n",
    "\n",
    "percent_of_purchase_medium = purchase_df_medium[\"user_id\"].nunique() / len(\n",
    "    selected_level_medium_users\n",
    ")\n",
    "print(\n",
    "    \"Процент пользователей, которые оплатили тренировки (от числа пользователей с уровнем сложности medium): {:.2%}\".format(\n",
    "        percent_of_purchase_medium\n",
    "    )\n",
    ")"
   ]
  },
  {
   "cell_type": "code",
   "execution_count": 12,
   "metadata": {},
   "outputs": [
    {
     "data": {
      "text/plain": [
       "109.52"
      ]
     },
     "execution_count": 12,
     "metadata": {},
     "output_type": "execute_result"
    }
   ],
   "source": [
    "round(purchase_df_medium['amount'].mean(), 2) # средний размер оплаты"
   ]
  },
  {
   "cell_type": "markdown",
   "metadata": {},
   "source": [
    "#### Уровень сложности hard"
   ]
  },
  {
   "cell_type": "code",
   "execution_count": 13,
   "metadata": {},
   "outputs": [],
   "source": [
    "selected_level_hard_df = total_events_df[total_events_df[\"selected_level\"] == \"hard\"] # Создаем датафрейм, с выбором уровня \"hard\""
   ]
  },
  {
   "cell_type": "code",
   "execution_count": 14,
   "metadata": {},
   "outputs": [
    {
     "name": "stdout",
     "output_type": "stream",
     "text": [
      "Процент пользователей, которые оплатили тренировки (от числа пользователей с уровнем сложности hard): 35.39%\n"
     ]
    }
   ],
   "source": [
    "selected_level_hard_users = selected_level_hard_df[\"user_id\"].unique()\n",
    "len(selected_level_hard_users) # кол-во пользователей с уровнем hard\n",
    "\n",
    "purchase_df_hard = purchase_df[purchase_df[\"user_id\"].isin(selected_level_hard_users)] # датафрейм с оплатой\n",
    "purchase_df_hard['user_id'].nunique() #кол-во пользователей с оплатой  и уровнем easy\n",
    "\n",
    "percent_of_purchase_hard = purchase_df_hard[\"user_id\"].nunique() / len(\n",
    "    selected_level_hard_users\n",
    ")\n",
    "print(\n",
    "    \"Процент пользователей, которые оплатили тренировки (от числа пользователей с уровнем сложности hard): {:.2%}\".format(\n",
    "        percent_of_purchase_hard\n",
    "    )\n",
    ")"
   ]
  },
  {
   "cell_type": "code",
   "execution_count": 15,
   "metadata": {},
   "outputs": [
    {
     "data": {
      "text/plain": [
       "111.6"
      ]
     },
     "execution_count": 15,
     "metadata": {},
     "output_type": "execute_result"
    }
   ],
   "source": [
    "round(purchase_df_hard['amount'].mean(),2) # средний размер оплаты"
   ]
  },
  {
   "cell_type": "markdown",
   "metadata": {},
   "source": [
    "- Процент пользователей, которые оплатили тренировки (от числа пользователей с уровнем сложности easy): 7.72% \n",
    "- Процент пользователей, которые оплатили тренировки (от числа пользователей с уровнем сложности medium): 20.86%\n",
    "- Процент пользователей, которые оплатили тренировки (от числа пользователей с уровнем сложности hard): 35.39%\n",
    "\n",
    "Как можно заметить процент процент пользователей, которые оплатили тренировки растёт с повышение уровня.\n",
    "Так процент пользователей, которые оплатили тренировки с выбранным уровнем сложности hard в 4,6 раз выше чем у пользователей с уровнем easy"
   ]
  },
  {
   "cell_type": "markdown",
   "metadata": {},
   "source": [
    "### Расчет временного промежутка между выбором уровня сложности и оплатой у групп пользователей с разным уровнем сложности"
   ]
  },
  {
   "cell_type": "code",
   "execution_count": 16,
   "metadata": {},
   "outputs": [],
   "source": [
    "purchase_first_df = total_events_df[total_events_df[\"event_type\"] == \"purchase\"]  # Создаем датафрейм, содержащий только первую покупку\n",
    "\n",
    "purchase_first_df = purchase_first_df[[\"user_id\", \"event_datetime\"]].rename(\n",
    "    columns={\"event_datetime\": \"purchase_time\"}\n",
    ")            # Оставляем только нужные для вычислений столбцы"
   ]
  },
  {
   "cell_type": "markdown",
   "metadata": {},
   "source": [
    "#### Уровень сложности easy"
   ]
  },
  {
   "cell_type": "code",
   "execution_count": 17,
   "metadata": {},
   "outputs": [],
   "source": [
    "selected_level_easy_df_1 = selected_level_easy_df[[\"user_id\", \"start_time\"]].rename(\n",
    "    columns={\"start_time\": \"level_choice_time\"})                # Оставляем только нужные для вычислений столбцы\n",
    "\n",
    "selected_level_1 = selected_level_easy_df_1.merge(purchase_first_df, on=\"user_id\", how=\"inner\")\n",
    "\n",
    "selected_level_1[\"timedelta\"] = (\n",
    "    selected_level_1[\"purchase_time\"] - selected_level_1[\"level_choice_time\"]\n",
    ")\n",
    "               # Считаем временную разницу"
   ]
  },
  {
   "cell_type": "code",
   "execution_count": 18,
   "metadata": {},
   "outputs": [
    {
     "data": {
      "text/plain": [
       "count                          189\n",
       "mean     3 days 14:58:52.941798941\n",
       "std      2 days 07:06:35.644097504\n",
       "min                0 days 00:49:20\n",
       "25%                1 days 17:18:56\n",
       "50%                3 days 06:03:50\n",
       "75%                5 days 06:58:18\n",
       "max               10 days 18:35:09\n",
       "Name: timedelta, dtype: object"
      ]
     },
     "execution_count": 18,
     "metadata": {},
     "output_type": "execute_result"
    }
   ],
   "source": [
    "selected_level_1[\"timedelta\"].describe()"
   ]
  },
  {
   "cell_type": "markdown",
   "metadata": {},
   "source": [
    "#### Уровень сложности medium"
   ]
  },
  {
   "cell_type": "code",
   "execution_count": 19,
   "metadata": {},
   "outputs": [],
   "source": [
    "selected_level_medium_df_1 = selected_level_medium_df[[\"user_id\", \"start_time\"]].rename(\n",
    "    columns={\"start_time\": \"level_choice_time\"})                # Оставляем только нужные для вычислений столбцы\n",
    "\n",
    "selected_level_2 = selected_level_medium_df_1.merge(purchase_first_df, on=\"user_id\", how=\"inner\")\n",
    "\n",
    "selected_level_2[\"timedelta\"] = (\n",
    "    selected_level_2[\"purchase_time\"] - selected_level_2[\"level_choice_time\"]\n",
    ")\n",
    "               # Считаем временную разницу"
   ]
  },
  {
   "cell_type": "code",
   "execution_count": 20,
   "metadata": {},
   "outputs": [
    {
     "data": {
      "text/plain": [
       "count                          969\n",
       "mean     3 days 23:14:13.165118679\n",
       "std      2 days 06:18:57.618467109\n",
       "min                0 days 04:18:12\n",
       "25%                2 days 01:20:07\n",
       "50%                3 days 19:53:19\n",
       "75%                5 days 16:07:19\n",
       "max               10 days 13:51:01\n",
       "Name: timedelta, dtype: object"
      ]
     },
     "execution_count": 20,
     "metadata": {},
     "output_type": "execute_result"
    }
   ],
   "source": [
    "selected_level_2[\"timedelta\"].describe()"
   ]
  },
  {
   "cell_type": "markdown",
   "metadata": {},
   "source": [
    "#### Уровень сложности hard"
   ]
  },
  {
   "cell_type": "code",
   "execution_count": 21,
   "metadata": {},
   "outputs": [],
   "source": [
    "selected_level_hard_df_1 = selected_level_hard_df[[\"user_id\", \"start_time\"]].rename(\n",
    "    columns={\"start_time\": \"level_choice_time\"})                # Оставляем только нужные для вычислений столбцы\n",
    "\n",
    "selected_level_3 = selected_level_hard_df_1.merge(purchase_first_df, on=\"user_id\", how=\"inner\")\n",
    "\n",
    "\n",
    "selected_level_3[\"timedelta\"] = (\n",
    "    selected_level_3[\"purchase_time\"] - selected_level_3[\"level_choice_time\"]\n",
    ")\n",
    "               # Считаем временную разницу"
   ]
  },
  {
   "cell_type": "code",
   "execution_count": 22,
   "metadata": {},
   "outputs": [
    {
     "data": {
      "text/plain": [
       "count                          442\n",
       "mean     3 days 07:20:41.420814479\n",
       "std      1 days 21:43:52.953292605\n",
       "min                0 days 03:26:45\n",
       "25%         1 days 14:57:23.500000\n",
       "50%         3 days 03:13:57.500000\n",
       "75%         4 days 19:16:00.250000\n",
       "max                8 days 01:18:13\n",
       "Name: timedelta, dtype: object"
      ]
     },
     "execution_count": 22,
     "metadata": {},
     "output_type": "execute_result"
    }
   ],
   "source": [
    "selected_level_3[\"timedelta\"].describe()"
   ]
  },
  {
   "cell_type": "markdown",
   "metadata": {},
   "source": [
    "Среднее время между выбором уровня сложности и покупкой:\n",
    "- easy - 3 days 14:58:52;\n",
    "- medium - 3 days 23:14:13;\n",
    "- hard - 3 days 07:20:41.\n",
    "\n",
    "Как можнм заметить среднее время между выбором уровня сложности и первой покупкой не сильно отличается по группам. Минимальное время между этими двумя событиями у группы пользователей с выбором уровня сложности hard. Следует также отметить, что у данных пользователей наблюдается минимальное значение максимального временного промежутка - разница с другими двумя уровнями сложностей составляет более двух с половиной суток."
   ]
  },
  {
   "cell_type": "markdown",
   "metadata": {},
   "source": [
    "### Расчет временного промежутка между регистрацией и оплатой у групп пользователей с разным уровнем сложности"
   ]
  },
  {
   "cell_type": "code",
   "execution_count": 23,
   "metadata": {},
   "outputs": [],
   "source": [
    "registration_df = total_events_df[total_events_df['event_type'] == 'registration'] # выделяем отдельный датафрейм registration_df, содержащий только события с event_type = registration. \n",
    "                                                                                   # Этот датафрейм будет вспомогательным для определения времени между регистрацией и началом обучения\n",
    "\n",
    "registration_df = registration_df[[\"user_id\", \"start_time\"]].rename(\n",
    "    columns={\"start_time\": \"registration_time\"}\n",
    ") # Оставляем только нужные для вычислений столбцы"
   ]
  },
  {
   "cell_type": "markdown",
   "metadata": {},
   "source": [
    "#### Уровень сложности easy"
   ]
  },
  {
   "cell_type": "code",
   "execution_count": 24,
   "metadata": {},
   "outputs": [],
   "source": [
    "purchase_easy = purchase_df_easy[[\"user_id\", \"event_datetime\"]].rename(\n",
    "    columns={\"event_datetime\": \"purchase_time\"}\n",
    ")            # Оставляем только нужные для вычислений столбцы\n",
    "purchase_reg_easy = purchase_easy.merge(registration_df, on=\"user_id\", how=\"inner\")\n",
    "\n",
    "\n",
    "purchase_reg_easy[\"timedelta\"] = (\n",
    "    purchase_reg_easy[\"purchase_time\"] - purchase_reg_easy[\"registration_time\"]\n",
    ")\n",
    "               # Считаем временную разницу"
   ]
  },
  {
   "cell_type": "code",
   "execution_count": 25,
   "metadata": {},
   "outputs": [
    {
     "data": {
      "text/plain": [
       "count                          189\n",
       "mean     3 days 22:10:23.211640211\n",
       "std      2 days 07:14:41.062010764\n",
       "min                0 days 04:36:58\n",
       "25%                2 days 01:12:12\n",
       "50%                3 days 11:00:23\n",
       "75%                5 days 10:24:59\n",
       "max               11 days 00:35:04\n",
       "Name: timedelta, dtype: object"
      ]
     },
     "execution_count": 25,
     "metadata": {},
     "output_type": "execute_result"
    }
   ],
   "source": [
    "purchase_reg_easy[\"timedelta\"].describe()"
   ]
  },
  {
   "cell_type": "markdown",
   "metadata": {},
   "source": [
    "#### Уровень сложности medium"
   ]
  },
  {
   "cell_type": "code",
   "execution_count": 26,
   "metadata": {},
   "outputs": [],
   "source": [
    "purchase_medium = purchase_df_medium[[\"user_id\", \"event_datetime\"]].rename(\n",
    "    columns={\"event_datetime\": \"purchase_time\"}\n",
    ")            # Оставляем только нужные для вычислений столбцы\n",
    "purchase_reg_medium = purchase_medium.merge(registration_df, on=\"user_id\", how=\"inner\")\n",
    "\n",
    "\n",
    "purchase_reg_medium[\"timedelta\"] = (\n",
    "    purchase_reg_medium[\"purchase_time\"] - purchase_reg_medium[\"registration_time\"]\n",
    ")\n",
    "               # Считаем временную разницу"
   ]
  },
  {
   "cell_type": "code",
   "execution_count": 27,
   "metadata": {},
   "outputs": [
    {
     "data": {
      "text/plain": [
       "count                          969\n",
       "mean     4 days 06:12:06.576883384\n",
       "std      2 days 06:25:57.480868026\n",
       "min                0 days 08:39:24\n",
       "25%                2 days 08:46:51\n",
       "50%                4 days 03:35:26\n",
       "75%                5 days 23:51:27\n",
       "max               10 days 20:34:02\n",
       "Name: timedelta, dtype: object"
      ]
     },
     "execution_count": 27,
     "metadata": {},
     "output_type": "execute_result"
    }
   ],
   "source": [
    "purchase_reg_medium[\"timedelta\"].describe()"
   ]
  },
  {
   "cell_type": "markdown",
   "metadata": {},
   "source": [
    "#### Уровень сложности hard"
   ]
  },
  {
   "cell_type": "code",
   "execution_count": 28,
   "metadata": {},
   "outputs": [],
   "source": [
    "purchase_hard = purchase_df_hard[[\"user_id\", \"event_datetime\"]].rename(\n",
    "    columns={\"event_datetime\": \"purchase_time\"}\n",
    ")            # Оставляем только нужные для вычислений столбцы\n",
    "purchase_reg_hard = purchase_hard.merge(registration_df, on=\"user_id\", how=\"inner\")\n",
    "\n",
    "purchase_reg_hard[\"timedelta\"] = (\n",
    "    purchase_reg_hard[\"purchase_time\"] - purchase_reg_hard[\"registration_time\"]\n",
    ")\n",
    "               # Считаем временную разницу"
   ]
  },
  {
   "cell_type": "code",
   "execution_count": 29,
   "metadata": {},
   "outputs": [
    {
     "data": {
      "text/plain": [
       "count                          442\n",
       "mean     3 days 14:55:19.257918552\n",
       "std      1 days 22:22:52.441896774\n",
       "min                0 days 09:41:39\n",
       "25%         1 days 23:36:25.500000\n",
       "50%         3 days 10:10:04.500000\n",
       "75%         5 days 03:30:07.750000\n",
       "max                8 days 14:21:29\n",
       "Name: timedelta, dtype: object"
      ]
     },
     "execution_count": 29,
     "metadata": {},
     "output_type": "execute_result"
    }
   ],
   "source": [
    "purchase_reg_hard[\"timedelta\"].describe()"
   ]
  },
  {
   "cell_type": "markdown",
   "metadata": {},
   "source": [
    "Среднее время между регистрацией и оплатой по уровням сложности:\n",
    "- easy - 3 days 22:10:23;\n",
    "- medium - 4 days 06:12:06;\n",
    "- hard - 3 days 14:55:19.\n",
    "\n",
    "Как и в предыдущих данных среднее время между регистрацией и первой покупкой минимально у группы пользователей с выбором уровня сложности hard. Самое большре значение у группы пользователей с уровнем сложности medium. Следует также отметить, что у группы пользователей с выбором уровня сложности hard также наблюдается разница с другими двумя уровнями сложностей более двух с половиной суток в значении максимального временного промежутка."
   ]
  },
  {
   "cell_type": "markdown",
   "metadata": {},
   "source": [
    "Из приведённых данных можно сделать вывод, что группы пользователей с высоким уровнем сложности более расположены к покупкам"
   ]
  }
 ],
 "metadata": {
  "interpreter": {
   "hash": "34b4afe48725f1717edf4c388b6eb8fce3cc017ac42b6b1b43d89f07ceab0b1b"
  },
  "kernelspec": {
   "display_name": "Python 3 (ipykernel)",
   "language": "python",
   "name": "python3"
  },
  "language_info": {
   "codemirror_mode": {
    "name": "ipython",
    "version": 3
   },
   "file_extension": ".py",
   "mimetype": "text/x-python",
   "name": "python",
   "nbconvert_exporter": "python",
   "pygments_lexer": "ipython3",
   "version": "3.10.1"
  }
 },
 "nbformat": 4,
 "nbformat_minor": 4
}
