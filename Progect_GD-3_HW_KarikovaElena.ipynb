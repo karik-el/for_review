{
 "cells": [
  {
   "cell_type": "code",
   "execution_count": 1,
   "metadata": {},
   "outputs": [],
   "source": [
    "import pandas as pd"
   ]
  },
  {
   "cell_type": "code",
   "execution_count": 2,
   "metadata": {},
   "outputs": [],
   "source": [
    "import warnings\n",
    "warnings.filterwarnings(\"ignore\")"
   ]
  },
  {
   "cell_type": "markdown",
   "metadata": {},
   "source": [
    "## Таблица *Event*\n",
    "    Хранит данные о событиях, которые совершают пользователи. По сути, каждое событие — это факт прохождения пользователем какого-либо этапа игры.\n",
    "\n",
    "    Название поля\t Описание\n",
    "    id\t            идентификатор события\n",
    "    user_id\t       уникальный идентификатор пользователя, совершившего событие в приложении\n",
    "    start_time\t    дата и время события\n",
    "    event_type\t    тип события \n",
    "                (значения: registration — регистрация; \n",
    "                tutorial_start — начало обучения; \n",
    "                tutorial_finish — завершение обучения; \n",
    "                level_choice — выбор уровня сложности; \n",
    "                pack_choice — выбор пакетов вопросов)\n",
    "    tutorial_id\t   идентификатор обучения (этот идентификатор есть только у событий обучения)\n",
    "    selected_level\tвыбранный уровень сложности обучения"
   ]
  },
  {
   "cell_type": "code",
   "execution_count": 3,
   "metadata": {},
   "outputs": [],
   "source": [
    "events = pd.read_csv('Events.csv', sep=',')\n"
   ]
  },
  {
   "cell_type": "code",
   "execution_count": 4,
   "metadata": {},
   "outputs": [],
   "source": [
    "events_2018 = (events.start_time>='2018-01-01') & (events.start_time<'2019-01-01') & (events.event_type=='registration')\n",
    "registered = events[events_2018]['user_id'].to_list() # список пользователей, зарег. в 2018\n",
    "events_df = events[events.user_id.isin(registered)]"
   ]
  },
  {
   "cell_type": "code",
   "execution_count": 5,
   "metadata": {},
   "outputs": [],
   "source": [
    "events_df['start_time'] = pd.to_datetime(events_df['start_time'])"
   ]
  },
  {
   "cell_type": "markdown",
   "metadata": {},
   "source": [
    "## Таблица *purchase*\n",
    "    Хранит данные об оплатах, которые совершают пользователи.\n",
    "\n",
    "    Название поля\t Описание\n",
    "    id\t            идентификатор события\n",
    "    user_id\t       уникальный идентификатор пользователя, совершившего событие в приложении\n",
    "    event_datetime\tдата и время события/покупки\n",
    "    amount\t        сумма оплаты"
   ]
  },
  {
   "cell_type": "code",
   "execution_count": 6,
   "metadata": {},
   "outputs": [],
   "source": [
    "purchase = pd.read_csv('purchase.csv', sep=',')\n"
   ]
  },
  {
   "cell_type": "code",
   "execution_count": 7,
   "metadata": {},
   "outputs": [],
   "source": [
    "purchase['event_datetime'] = pd.to_datetime(purchase['event_datetime'])"
   ]
  },
  {
   "cell_type": "code",
   "execution_count": 8,
   "metadata": {},
   "outputs": [],
   "source": [
    "purchase_df = purchase[purchase.user_id.isin(registered)]"
   ]
  },
  {
   "cell_type": "code",
   "execution_count": 9,
   "metadata": {},
   "outputs": [],
   "source": [
    "events_df = events_df.rename(columns={\"id\": \"event_id\"})\n",
    "purchase_df = purchase_df.rename(columns={\"id\": \"purchase_id\"})"
   ]
  },
  {
   "cell_type": "code",
   "execution_count": 10,
   "metadata": {},
   "outputs": [],
   "source": [
    "purchase_df['event_type'] = 'purchase' # Добавляем в датафрейм purchase_df столбец event_type, который будет содержать одно значение purchase.\n",
    "                                       # Это нужно, чтобы в объединённом датафрейме однозначно выделить события оплаты."
   ]
  },
  {
   "cell_type": "code",
   "execution_count": 11,
   "metadata": {},
   "outputs": [],
   "source": [
    "total_events_df = pd.concat([events_df,purchase_df],sort=False) # объединение датафреймов"
   ]
  },
  {
   "cell_type": "code",
   "execution_count": 12,
   "metadata": {},
   "outputs": [],
   "source": [
    "total_events_df = total_events_df.reset_index(drop=True).sort_values('start_time') # сброс индексов + сортировка событий по возрастанию времени"
   ]
  },
  {
   "cell_type": "markdown",
   "metadata": {},
   "source": [
    "## ЗАДАНИЕ\n",
    "Необходимо проверить:\n",
    "\n",
    "- есть ли зависимость между выбранным уровнем сложности и вероятностью оплаты;\n",
    "- различается ли временной промежуток между выбором уровня сложности и оплатой у групп пользователей с разным уровнем сложности\n",
    "- различается ли временной промежуток между регистрацией и оплатой у групп пользователей с разным уровнем сложности."
   ]
  },
  {
   "cell_type": "markdown",
   "metadata": {},
   "source": [
    "### Зависимость между выбранным уровнем сложности и вероятностью оплаты"
   ]
  },
  {
   "cell_type": "markdown",
   "metadata": {},
   "source": [
    "#### Уровень сложности easy"
   ]
  },
  {
   "cell_type": "code",
   "execution_count": 13,
   "metadata": {},
   "outputs": [],
   "source": [
    "selected_level_easy_df = total_events_df[total_events_df[\"selected_level\"] == \"easy\"] # Создаем датафрейм, с выбором уровня \"easy\""
   ]
  },
  {
   "cell_type": "code",
   "execution_count": 14,
   "metadata": {},
   "outputs": [
    {
     "data": {
      "text/plain": [
       "1.0"
      ]
     },
     "execution_count": 14,
     "metadata": {},
     "output_type": "execute_result"
    }
   ],
   "source": [
    "selected_level_easy_df[\"user_id\"].value_counts().mean() # Проверка сколько таких событий приходится на пользователя"
   ]
  },
  {
   "cell_type": "markdown",
   "metadata": {},
   "source": [
    "##### Ищем пользователей с уровнем сложности easy"
   ]
  },
  {
   "cell_type": "code",
   "execution_count": 15,
   "metadata": {},
   "outputs": [
    {
     "data": {
      "text/plain": [
       "2448"
      ]
     },
     "execution_count": 15,
     "metadata": {},
     "output_type": "execute_result"
    }
   ],
   "source": [
    "selected_level_easy_users = selected_level_easy_df[\"user_id\"].unique()\n",
    "len(selected_level_easy_users) # кол-во пользователей с уровнем easy"
   ]
  },
  {
   "cell_type": "markdown",
   "metadata": {},
   "source": [
    "##### Оплата от пользователей с уровнем сложности easy"
   ]
  },
  {
   "cell_type": "code",
   "execution_count": 16,
   "metadata": {},
   "outputs": [],
   "source": [
    "purchase_df_easy = purchase_df[purchase_df[\"user_id\"].isin(selected_level_easy_users)] # датафрейм с оплатой"
   ]
  },
  {
   "cell_type": "code",
   "execution_count": 17,
   "metadata": {},
   "outputs": [
    {
     "data": {
      "text/plain": [
       "189"
      ]
     },
     "execution_count": 17,
     "metadata": {},
     "output_type": "execute_result"
    }
   ],
   "source": [
    "purchase_df_easy['user_id'].nunique() #кол-во пользователей с оплатой  и уровнем easy"
   ]
  },
  {
   "cell_type": "code",
   "execution_count": 18,
   "metadata": {},
   "outputs": [
    {
     "name": "stdout",
     "output_type": "stream",
     "text": [
      "Процент пользователей, которые оплатили тренировки (от числа пользователей с уровнем сложности easy): 7.72%\n"
     ]
    }
   ],
   "source": [
    "percent_of_purchase_easy = purchase_df_easy[\"user_id\"].nunique() / len(\n",
    "    selected_level_easy_users\n",
    ")\n",
    "print(\n",
    "    \"Процент пользователей, которые оплатили тренировки (от числа пользователей с уровнем сложности easy): {:.2%}\".format(\n",
    "        percent_of_purchase_easy\n",
    "    )\n",
    ")"
   ]
  },
  {
   "cell_type": "code",
   "execution_count": 19,
   "metadata": {},
   "outputs": [
    {
     "data": {
      "text/plain": [
       "114.95"
      ]
     },
     "execution_count": 19,
     "metadata": {},
     "output_type": "execute_result"
    }
   ],
   "source": [
    "round(purchase_df_easy['amount'].mean(), 2) # средний размер оплаты"
   ]
  },
  {
   "cell_type": "markdown",
   "metadata": {},
   "source": [
    "#### Уровень сложности medium"
   ]
  },
  {
   "cell_type": "code",
   "execution_count": 20,
   "metadata": {},
   "outputs": [],
   "source": [
    "selected_level_medium_df = total_events_df[total_events_df[\"selected_level\"] == \"medium\"] # Создаем датафрейм, с выбором уровня \"medium\""
   ]
  },
  {
   "cell_type": "code",
   "execution_count": 21,
   "metadata": {},
   "outputs": [
    {
     "data": {
      "text/plain": [
       "1.0"
      ]
     },
     "execution_count": 21,
     "metadata": {},
     "output_type": "execute_result"
    }
   ],
   "source": [
    "selected_level_medium_df[\"user_id\"].value_counts().mean() # Проверка сколько таких событий приходится на пользователя"
   ]
  },
  {
   "cell_type": "markdown",
   "metadata": {},
   "source": [
    "##### Ищем пользователей с уровнем сложности medium"
   ]
  },
  {
   "cell_type": "code",
   "execution_count": 22,
   "metadata": {},
   "outputs": [
    {
     "data": {
      "text/plain": [
       "4645"
      ]
     },
     "execution_count": 22,
     "metadata": {},
     "output_type": "execute_result"
    }
   ],
   "source": [
    "selected_level_medium_users = selected_level_medium_df[\"user_id\"].unique()\n",
    "len(selected_level_medium_users) # кол-во пользователей с уровнем medium"
   ]
  },
  {
   "cell_type": "markdown",
   "metadata": {},
   "source": [
    "##### Оплата от пользователей с уровнем сложности medium"
   ]
  },
  {
   "cell_type": "code",
   "execution_count": 23,
   "metadata": {},
   "outputs": [],
   "source": [
    "purchase_df_medium = purchase_df[purchase_df[\"user_id\"].isin(selected_level_medium_users)] # датафрейм с оплатой"
   ]
  },
  {
   "cell_type": "code",
   "execution_count": 24,
   "metadata": {},
   "outputs": [
    {
     "data": {
      "text/plain": [
       "969"
      ]
     },
     "execution_count": 24,
     "metadata": {},
     "output_type": "execute_result"
    }
   ],
   "source": [
    "purchase_df_medium['user_id'].nunique() #кол-во пользователей с оплатой  и уровнем medium"
   ]
  },
  {
   "cell_type": "code",
   "execution_count": 25,
   "metadata": {},
   "outputs": [
    {
     "name": "stdout",
     "output_type": "stream",
     "text": [
      "Процент пользователей, которые оплатили тренировки (от числа пользователей с уровнем сложности medium): 20.86%\n"
     ]
    }
   ],
   "source": [
    "percent_of_purchase_medium = purchase_df_medium[\"user_id\"].nunique() / len(\n",
    "    selected_level_medium_users\n",
    ")\n",
    "print(\n",
    "    \"Процент пользователей, которые оплатили тренировки (от числа пользователей с уровнем сложности medium): {:.2%}\".format(\n",
    "        percent_of_purchase_medium\n",
    "    )\n",
    ")"
   ]
  },
  {
   "cell_type": "code",
   "execution_count": 26,
   "metadata": {},
   "outputs": [
    {
     "data": {
      "text/plain": [
       "109.52"
      ]
     },
     "execution_count": 26,
     "metadata": {},
     "output_type": "execute_result"
    }
   ],
   "source": [
    "round(purchase_df_medium['amount'].mean(), 2) # средний размер оплаты"
   ]
  },
  {
   "cell_type": "markdown",
   "metadata": {},
   "source": [
    "#### Уровень сложности hard"
   ]
  },
  {
   "cell_type": "code",
   "execution_count": 27,
   "metadata": {},
   "outputs": [],
   "source": [
    "selected_level_hard_df = total_events_df[total_events_df[\"selected_level\"] == \"hard\"] # Создаем датафрейм, с выбором уровня \"hard\""
   ]
  },
  {
   "cell_type": "code",
   "execution_count": 28,
   "metadata": {},
   "outputs": [
    {
     "data": {
      "text/plain": [
       "1.0"
      ]
     },
     "execution_count": 28,
     "metadata": {},
     "output_type": "execute_result"
    }
   ],
   "source": [
    "selected_level_hard_df[\"user_id\"].value_counts().mean() # Проверка сколько таких событий приходится на пользователя"
   ]
  },
  {
   "cell_type": "markdown",
   "metadata": {},
   "source": [
    "##### Ищем пользователей с уровнем сложности hard"
   ]
  },
  {
   "cell_type": "code",
   "execution_count": 29,
   "metadata": {},
   "outputs": [
    {
     "data": {
      "text/plain": [
       "1249"
      ]
     },
     "execution_count": 29,
     "metadata": {},
     "output_type": "execute_result"
    }
   ],
   "source": [
    "selected_level_hard_users = selected_level_hard_df[\"user_id\"].unique()\n",
    "len(selected_level_hard_users) # кол-во пользователей с уровнем hard"
   ]
  },
  {
   "cell_type": "markdown",
   "metadata": {},
   "source": [
    "##### Оплата от пользователей с уровнем сложности hard"
   ]
  },
  {
   "cell_type": "code",
   "execution_count": 30,
   "metadata": {},
   "outputs": [],
   "source": [
    "purchase_df_hard = purchase_df[purchase_df[\"user_id\"].isin(selected_level_hard_users)] # датафрейм с оплатой"
   ]
  },
  {
   "cell_type": "code",
   "execution_count": 31,
   "metadata": {},
   "outputs": [
    {
     "data": {
      "text/plain": [
       "442"
      ]
     },
     "execution_count": 31,
     "metadata": {},
     "output_type": "execute_result"
    }
   ],
   "source": [
    "purchase_df_hard['user_id'].nunique() #кол-во пользователей с оплатой  и уровнем easy"
   ]
  },
  {
   "cell_type": "code",
   "execution_count": 32,
   "metadata": {},
   "outputs": [
    {
     "name": "stdout",
     "output_type": "stream",
     "text": [
      "Процент пользователей, которые оплатили тренировки (от числа пользователей с уровнем сложности hard): 35.39%\n"
     ]
    }
   ],
   "source": [
    "percent_of_purchase_hard = purchase_df_hard[\"user_id\"].nunique() / len(\n",
    "    selected_level_hard_users\n",
    ")\n",
    "print(\n",
    "    \"Процент пользователей, которые оплатили тренировки (от числа пользователей с уровнем сложности hard): {:.2%}\".format(\n",
    "        percent_of_purchase_hard\n",
    "    )\n",
    ")"
   ]
  },
  {
   "cell_type": "code",
   "execution_count": 33,
   "metadata": {},
   "outputs": [
    {
     "data": {
      "text/plain": [
       "111.6"
      ]
     },
     "execution_count": 33,
     "metadata": {},
     "output_type": "execute_result"
    }
   ],
   "source": [
    "round(purchase_df_hard['amount'].mean(),2) # средний размер оплаты"
   ]
  },
  {
   "cell_type": "markdown",
   "metadata": {},
   "source": [
    "- Процент пользователей, которые оплатили тренировки (от числа пользователей с уровнем сложности easy): 7.72% \n",
    "- Процент пользователей, которые оплатили тренировки (от числа пользователей с уровнем сложности medium): 20.86%\n",
    "- Процент пользователей, которые оплатили тренировки (от числа пользователей с уровнем сложности hard): 35.39%\n",
    "\n",
    "Как можно заметить процент процент пользователей, которые оплатили тренировки растёт с повышение уровня.\n",
    "Так процент пользователей, которые оплатили тренировки с выбранным уровнем сложности hard в 4,6 раз выше чем у пользователей с уровнем easy"
   ]
  },
  {
   "cell_type": "markdown",
   "metadata": {},
   "source": [
    "### Расчет временного промежутка между выбором уровня сложности и оплатой у групп пользователей с разным уровнем сложности"
   ]
  },
  {
   "cell_type": "code",
   "execution_count": 34,
   "metadata": {},
   "outputs": [],
   "source": [
    "purchase_first_df = total_events_df[total_events_df[\"event_type\"] == \"purchase\"]  # Создаем датафрейм, содержащий только первую покупку"
   ]
  },
  {
   "cell_type": "code",
   "execution_count": 35,
   "metadata": {},
   "outputs": [],
   "source": [
    "purchase_first_df = purchase_first_df[[\"user_id\", \"event_datetime\"]].rename(\n",
    "    columns={\"event_datetime\": \"purchase_time\"}\n",
    ")            # Оставляем только нужные для вычислений столбцы"
   ]
  },
  {
   "cell_type": "markdown",
   "metadata": {},
   "source": [
    "#### Уровень сложности easy"
   ]
  },
  {
   "cell_type": "code",
   "execution_count": 36,
   "metadata": {},
   "outputs": [],
   "source": [
    "selected_level_easy_df_1 = selected_level_easy_df[[\"user_id\", \"start_time\"]].rename(\n",
    "    columns={\"start_time\": \"level_choice_time\"})                # Оставляем только нужные для вычислений столбцы\n"
   ]
  },
  {
   "cell_type": "code",
   "execution_count": 37,
   "metadata": {},
   "outputs": [],
   "source": [
    "selected_level_1 = selected_level_easy_df_1.merge(purchase_first_df, on=\"user_id\", how=\"inner\")"
   ]
  },
  {
   "cell_type": "code",
   "execution_count": 38,
   "metadata": {},
   "outputs": [
    {
     "data": {
      "text/html": [
       "<div>\n",
       "<style scoped>\n",
       "    .dataframe tbody tr th:only-of-type {\n",
       "        vertical-align: middle;\n",
       "    }\n",
       "\n",
       "    .dataframe tbody tr th {\n",
       "        vertical-align: top;\n",
       "    }\n",
       "\n",
       "    .dataframe thead th {\n",
       "        text-align: right;\n",
       "    }\n",
       "</style>\n",
       "<table border=\"1\" class=\"dataframe\">\n",
       "  <thead>\n",
       "    <tr style=\"text-align: right;\">\n",
       "      <th></th>\n",
       "      <th>user_id</th>\n",
       "      <th>level_choice_time</th>\n",
       "      <th>purchase_time</th>\n",
       "      <th>timedelta</th>\n",
       "    </tr>\n",
       "  </thead>\n",
       "  <tbody>\n",
       "    <tr>\n",
       "      <th>0</th>\n",
       "      <td>27884</td>\n",
       "      <td>2018-01-04 16:18:39</td>\n",
       "      <td>2018-01-08 19:37:34</td>\n",
       "      <td>4 days 03:18:55</td>\n",
       "    </tr>\n",
       "    <tr>\n",
       "      <th>1</th>\n",
       "      <td>28090</td>\n",
       "      <td>2018-01-09 21:34:23</td>\n",
       "      <td>2018-01-15 23:42:55</td>\n",
       "      <td>6 days 02:08:32</td>\n",
       "    </tr>\n",
       "    <tr>\n",
       "      <th>2</th>\n",
       "      <td>28182</td>\n",
       "      <td>2018-01-11 18:44:45</td>\n",
       "      <td>2018-01-12 02:46:01</td>\n",
       "      <td>0 days 08:01:16</td>\n",
       "    </tr>\n",
       "    <tr>\n",
       "      <th>3</th>\n",
       "      <td>28207</td>\n",
       "      <td>2018-01-11 21:10:51</td>\n",
       "      <td>2018-01-12 21:00:24</td>\n",
       "      <td>0 days 23:49:33</td>\n",
       "    </tr>\n",
       "    <tr>\n",
       "      <th>4</th>\n",
       "      <td>28254</td>\n",
       "      <td>2018-01-12 16:48:24</td>\n",
       "      <td>2018-01-19 22:08:40</td>\n",
       "      <td>7 days 05:20:16</td>\n",
       "    </tr>\n",
       "  </tbody>\n",
       "</table>\n",
       "</div>"
      ],
      "text/plain": [
       "   user_id   level_choice_time       purchase_time       timedelta\n",
       "0    27884 2018-01-04 16:18:39 2018-01-08 19:37:34 4 days 03:18:55\n",
       "1    28090 2018-01-09 21:34:23 2018-01-15 23:42:55 6 days 02:08:32\n",
       "2    28182 2018-01-11 18:44:45 2018-01-12 02:46:01 0 days 08:01:16\n",
       "3    28207 2018-01-11 21:10:51 2018-01-12 21:00:24 0 days 23:49:33\n",
       "4    28254 2018-01-12 16:48:24 2018-01-19 22:08:40 7 days 05:20:16"
      ]
     },
     "execution_count": 38,
     "metadata": {},
     "output_type": "execute_result"
    }
   ],
   "source": [
    "selected_level_1[\"timedelta\"] = (\n",
    "    selected_level_1[\"purchase_time\"] - selected_level_1[\"level_choice_time\"]\n",
    ")\n",
    "selected_level_1.head()               # Считаем временную разницу"
   ]
  },
  {
   "cell_type": "code",
   "execution_count": 39,
   "metadata": {},
   "outputs": [
    {
     "data": {
      "text/plain": [
       "count                          189\n",
       "mean     3 days 14:58:52.941798941\n",
       "std      2 days 07:06:35.644097504\n",
       "min                0 days 00:49:20\n",
       "25%                1 days 17:18:56\n",
       "50%                3 days 06:03:50\n",
       "75%                5 days 06:58:18\n",
       "max               10 days 18:35:09\n",
       "Name: timedelta, dtype: object"
      ]
     },
     "execution_count": 39,
     "metadata": {},
     "output_type": "execute_result"
    }
   ],
   "source": [
    "selected_level_1[\"timedelta\"].describe()"
   ]
  },
  {
   "cell_type": "markdown",
   "metadata": {},
   "source": [
    "#### Уровень сложности medium"
   ]
  },
  {
   "cell_type": "code",
   "execution_count": 40,
   "metadata": {},
   "outputs": [],
   "source": [
    "selected_level_medium_df_1 = selected_level_medium_df[[\"user_id\", \"start_time\"]].rename(\n",
    "    columns={\"start_time\": \"level_choice_time\"})                # Оставляем только нужные для вычислений столбцы\n"
   ]
  },
  {
   "cell_type": "code",
   "execution_count": 41,
   "metadata": {},
   "outputs": [],
   "source": [
    "selected_level_2 = selected_level_medium_df_1.merge(purchase_first_df, on=\"user_id\", how=\"inner\")"
   ]
  },
  {
   "cell_type": "code",
   "execution_count": 42,
   "metadata": {},
   "outputs": [
    {
     "data": {
      "text/html": [
       "<div>\n",
       "<style scoped>\n",
       "    .dataframe tbody tr th:only-of-type {\n",
       "        vertical-align: middle;\n",
       "    }\n",
       "\n",
       "    .dataframe tbody tr th {\n",
       "        vertical-align: top;\n",
       "    }\n",
       "\n",
       "    .dataframe thead th {\n",
       "        text-align: right;\n",
       "    }\n",
       "</style>\n",
       "<table border=\"1\" class=\"dataframe\">\n",
       "  <thead>\n",
       "    <tr style=\"text-align: right;\">\n",
       "      <th></th>\n",
       "      <th>user_id</th>\n",
       "      <th>level_choice_time</th>\n",
       "      <th>purchase_time</th>\n",
       "      <th>timedelta</th>\n",
       "    </tr>\n",
       "  </thead>\n",
       "  <tbody>\n",
       "    <tr>\n",
       "      <th>0</th>\n",
       "      <td>27973</td>\n",
       "      <td>2018-01-07 05:29:30</td>\n",
       "      <td>2018-01-13 21:50:00</td>\n",
       "      <td>6 days 16:20:30</td>\n",
       "    </tr>\n",
       "    <tr>\n",
       "      <th>1</th>\n",
       "      <td>27981</td>\n",
       "      <td>2018-01-07 10:46:14</td>\n",
       "      <td>2018-01-07 23:20:25</td>\n",
       "      <td>0 days 12:34:11</td>\n",
       "    </tr>\n",
       "    <tr>\n",
       "      <th>2</th>\n",
       "      <td>28010</td>\n",
       "      <td>2018-01-08 00:00:52</td>\n",
       "      <td>2018-01-10 05:32:47</td>\n",
       "      <td>2 days 05:31:55</td>\n",
       "    </tr>\n",
       "    <tr>\n",
       "      <th>3</th>\n",
       "      <td>28020</td>\n",
       "      <td>2018-01-08 14:47:35</td>\n",
       "      <td>2018-01-11 21:43:03</td>\n",
       "      <td>3 days 06:55:28</td>\n",
       "    </tr>\n",
       "    <tr>\n",
       "      <th>4</th>\n",
       "      <td>28033</td>\n",
       "      <td>2018-01-08 17:06:39</td>\n",
       "      <td>2018-01-16 05:08:41</td>\n",
       "      <td>7 days 12:02:02</td>\n",
       "    </tr>\n",
       "  </tbody>\n",
       "</table>\n",
       "</div>"
      ],
      "text/plain": [
       "   user_id   level_choice_time       purchase_time       timedelta\n",
       "0    27973 2018-01-07 05:29:30 2018-01-13 21:50:00 6 days 16:20:30\n",
       "1    27981 2018-01-07 10:46:14 2018-01-07 23:20:25 0 days 12:34:11\n",
       "2    28010 2018-01-08 00:00:52 2018-01-10 05:32:47 2 days 05:31:55\n",
       "3    28020 2018-01-08 14:47:35 2018-01-11 21:43:03 3 days 06:55:28\n",
       "4    28033 2018-01-08 17:06:39 2018-01-16 05:08:41 7 days 12:02:02"
      ]
     },
     "execution_count": 42,
     "metadata": {},
     "output_type": "execute_result"
    }
   ],
   "source": [
    "selected_level_2[\"timedelta\"] = (\n",
    "    selected_level_2[\"purchase_time\"] - selected_level_2[\"level_choice_time\"]\n",
    ")\n",
    "selected_level_2.head()               # Считаем временную разницу"
   ]
  },
  {
   "cell_type": "code",
   "execution_count": 43,
   "metadata": {},
   "outputs": [
    {
     "data": {
      "text/plain": [
       "count                          969\n",
       "mean     3 days 23:14:13.165118679\n",
       "std      2 days 06:18:57.618467109\n",
       "min                0 days 04:18:12\n",
       "25%                2 days 01:20:07\n",
       "50%                3 days 19:53:19\n",
       "75%                5 days 16:07:19\n",
       "max               10 days 13:51:01\n",
       "Name: timedelta, dtype: object"
      ]
     },
     "execution_count": 43,
     "metadata": {},
     "output_type": "execute_result"
    }
   ],
   "source": [
    "selected_level_2[\"timedelta\"].describe()"
   ]
  },
  {
   "cell_type": "markdown",
   "metadata": {},
   "source": [
    "#### Уровень сложности hard"
   ]
  },
  {
   "cell_type": "code",
   "execution_count": 44,
   "metadata": {},
   "outputs": [],
   "source": [
    "selected_level_hard_df_1 = selected_level_hard_df[[\"user_id\", \"start_time\"]].rename(\n",
    "    columns={\"start_time\": \"level_choice_time\"})                # Оставляем только нужные для вычислений столбцы\n"
   ]
  },
  {
   "cell_type": "code",
   "execution_count": 45,
   "metadata": {},
   "outputs": [],
   "source": [
    "selected_level_3 = selected_level_hard_df_1.merge(purchase_first_df, on=\"user_id\", how=\"inner\")\n"
   ]
  },
  {
   "cell_type": "code",
   "execution_count": 46,
   "metadata": {},
   "outputs": [
    {
     "data": {
      "text/html": [
       "<div>\n",
       "<style scoped>\n",
       "    .dataframe tbody tr th:only-of-type {\n",
       "        vertical-align: middle;\n",
       "    }\n",
       "\n",
       "    .dataframe tbody tr th {\n",
       "        vertical-align: top;\n",
       "    }\n",
       "\n",
       "    .dataframe thead th {\n",
       "        text-align: right;\n",
       "    }\n",
       "</style>\n",
       "<table border=\"1\" class=\"dataframe\">\n",
       "  <thead>\n",
       "    <tr style=\"text-align: right;\">\n",
       "      <th></th>\n",
       "      <th>user_id</th>\n",
       "      <th>level_choice_time</th>\n",
       "      <th>purchase_time</th>\n",
       "      <th>timedelta</th>\n",
       "    </tr>\n",
       "  </thead>\n",
       "  <tbody>\n",
       "    <tr>\n",
       "      <th>0</th>\n",
       "      <td>27845</td>\n",
       "      <td>2018-01-02 06:19:18</td>\n",
       "      <td>2018-01-03 18:53:43</td>\n",
       "      <td>1 days 12:34:25</td>\n",
       "    </tr>\n",
       "    <tr>\n",
       "      <th>1</th>\n",
       "      <td>27865</td>\n",
       "      <td>2018-01-04 05:56:32</td>\n",
       "      <td>2018-01-04 14:46:10</td>\n",
       "      <td>0 days 08:49:38</td>\n",
       "    </tr>\n",
       "    <tr>\n",
       "      <th>2</th>\n",
       "      <td>27910</td>\n",
       "      <td>2018-01-05 11:59:50</td>\n",
       "      <td>2018-01-07 12:11:34</td>\n",
       "      <td>2 days 00:11:44</td>\n",
       "    </tr>\n",
       "    <tr>\n",
       "      <th>3</th>\n",
       "      <td>27911</td>\n",
       "      <td>2018-01-05 17:39:02</td>\n",
       "      <td>2018-01-07 08:19:12</td>\n",
       "      <td>1 days 14:40:10</td>\n",
       "    </tr>\n",
       "    <tr>\n",
       "      <th>4</th>\n",
       "      <td>27940</td>\n",
       "      <td>2018-01-06 00:32:47</td>\n",
       "      <td>2018-01-07 13:16:41</td>\n",
       "      <td>1 days 12:43:54</td>\n",
       "    </tr>\n",
       "  </tbody>\n",
       "</table>\n",
       "</div>"
      ],
      "text/plain": [
       "   user_id   level_choice_time       purchase_time       timedelta\n",
       "0    27845 2018-01-02 06:19:18 2018-01-03 18:53:43 1 days 12:34:25\n",
       "1    27865 2018-01-04 05:56:32 2018-01-04 14:46:10 0 days 08:49:38\n",
       "2    27910 2018-01-05 11:59:50 2018-01-07 12:11:34 2 days 00:11:44\n",
       "3    27911 2018-01-05 17:39:02 2018-01-07 08:19:12 1 days 14:40:10\n",
       "4    27940 2018-01-06 00:32:47 2018-01-07 13:16:41 1 days 12:43:54"
      ]
     },
     "execution_count": 46,
     "metadata": {},
     "output_type": "execute_result"
    }
   ],
   "source": [
    "selected_level_3[\"timedelta\"] = (\n",
    "    selected_level_3[\"purchase_time\"] - selected_level_3[\"level_choice_time\"]\n",
    ")\n",
    "selected_level_3.head()               # Считаем временную разницу"
   ]
  },
  {
   "cell_type": "code",
   "execution_count": 47,
   "metadata": {},
   "outputs": [
    {
     "data": {
      "text/plain": [
       "count                          442\n",
       "mean     3 days 07:20:41.420814479\n",
       "std      1 days 21:43:52.953292605\n",
       "min                0 days 03:26:45\n",
       "25%         1 days 14:57:23.500000\n",
       "50%         3 days 03:13:57.500000\n",
       "75%         4 days 19:16:00.250000\n",
       "max                8 days 01:18:13\n",
       "Name: timedelta, dtype: object"
      ]
     },
     "execution_count": 47,
     "metadata": {},
     "output_type": "execute_result"
    }
   ],
   "source": [
    "selected_level_3[\"timedelta\"].describe()"
   ]
  },
  {
   "cell_type": "markdown",
   "metadata": {},
   "source": [
    "Среднее время между выбором уровня сложности и покупкой:\n",
    "- easy - 3 days 14:58:52;\n",
    "- medium - 3 days 23:14:13;\n",
    "- hard - 3 days 07:20:41.\n",
    "\n",
    "Как можнм заметить среднее время между выбором уровня сложности и первой покупкой не сильно отличается по группам. Минимальное время между этими двумя событиями у группы пользователей с выбором уровня сложности hard. Следует также отметить, что у данных пользователей наблюдается минимальное значение максимального временного промежутка - разница с другими двумя уровнями сложностей составляет более двух с половиной суток."
   ]
  },
  {
   "cell_type": "markdown",
   "metadata": {},
   "source": [
    "### Расчет временного промежутка между регистрацией и оплатой у групп пользователей с разным уровнем сложности"
   ]
  },
  {
   "cell_type": "code",
   "execution_count": 48,
   "metadata": {},
   "outputs": [],
   "source": [
    "registration_df = total_events_df[total_events_df['event_type'] == 'registration'] # выделяем отдельный датафрейм registration_df, содержащий только события с event_type = registration. \n",
    "                                                                                   # Этот датафрейм будет вспомогательным для определения времени между регистрацией и началом обучения"
   ]
  },
  {
   "cell_type": "code",
   "execution_count": 49,
   "metadata": {},
   "outputs": [],
   "source": [
    "registration_df = registration_df[[\"user_id\", \"start_time\"]].rename(\n",
    "    columns={\"start_time\": \"registration_time\"}\n",
    ") # Оставляем только нужные для вычислений столбцы"
   ]
  },
  {
   "cell_type": "markdown",
   "metadata": {},
   "source": [
    "#### Уровень сложности easy"
   ]
  },
  {
   "cell_type": "code",
   "execution_count": 50,
   "metadata": {},
   "outputs": [],
   "source": [
    "purchase_easy = purchase_df_easy[[\"user_id\", \"event_datetime\"]].rename(\n",
    "    columns={\"event_datetime\": \"purchase_time\"}\n",
    ")            # Оставляем только нужные для вычислений столбцы"
   ]
  },
  {
   "cell_type": "code",
   "execution_count": 51,
   "metadata": {},
   "outputs": [],
   "source": [
    "purchase_reg_easy = purchase_easy.merge(registration_df, on=\"user_id\", how=\"inner\")\n"
   ]
  },
  {
   "cell_type": "code",
   "execution_count": 52,
   "metadata": {},
   "outputs": [
    {
     "data": {
      "text/html": [
       "<div>\n",
       "<style scoped>\n",
       "    .dataframe tbody tr th:only-of-type {\n",
       "        vertical-align: middle;\n",
       "    }\n",
       "\n",
       "    .dataframe tbody tr th {\n",
       "        vertical-align: top;\n",
       "    }\n",
       "\n",
       "    .dataframe thead th {\n",
       "        text-align: right;\n",
       "    }\n",
       "</style>\n",
       "<table border=\"1\" class=\"dataframe\">\n",
       "  <thead>\n",
       "    <tr style=\"text-align: right;\">\n",
       "      <th></th>\n",
       "      <th>user_id</th>\n",
       "      <th>purchase_time</th>\n",
       "      <th>registration_time</th>\n",
       "      <th>timedelta</th>\n",
       "    </tr>\n",
       "  </thead>\n",
       "  <tbody>\n",
       "    <tr>\n",
       "      <th>0</th>\n",
       "      <td>27884</td>\n",
       "      <td>2018-01-08 19:37:34</td>\n",
       "      <td>2018-01-04 11:50:43</td>\n",
       "      <td>4 days 07:46:51</td>\n",
       "    </tr>\n",
       "    <tr>\n",
       "      <th>1</th>\n",
       "      <td>28182</td>\n",
       "      <td>2018-01-12 02:46:01</td>\n",
       "      <td>2018-01-11 10:12:20</td>\n",
       "      <td>0 days 16:33:41</td>\n",
       "    </tr>\n",
       "    <tr>\n",
       "      <th>2</th>\n",
       "      <td>28207</td>\n",
       "      <td>2018-01-12 21:00:24</td>\n",
       "      <td>2018-01-11 16:27:37</td>\n",
       "      <td>1 days 04:32:47</td>\n",
       "    </tr>\n",
       "    <tr>\n",
       "      <th>3</th>\n",
       "      <td>28090</td>\n",
       "      <td>2018-01-15 23:42:55</td>\n",
       "      <td>2018-01-09 19:31:24</td>\n",
       "      <td>6 days 04:11:31</td>\n",
       "    </tr>\n",
       "    <tr>\n",
       "      <th>4</th>\n",
       "      <td>28378</td>\n",
       "      <td>2018-01-18 02:11:41</td>\n",
       "      <td>2018-01-15 14:55:57</td>\n",
       "      <td>2 days 11:15:44</td>\n",
       "    </tr>\n",
       "  </tbody>\n",
       "</table>\n",
       "</div>"
      ],
      "text/plain": [
       "   user_id       purchase_time   registration_time       timedelta\n",
       "0    27884 2018-01-08 19:37:34 2018-01-04 11:50:43 4 days 07:46:51\n",
       "1    28182 2018-01-12 02:46:01 2018-01-11 10:12:20 0 days 16:33:41\n",
       "2    28207 2018-01-12 21:00:24 2018-01-11 16:27:37 1 days 04:32:47\n",
       "3    28090 2018-01-15 23:42:55 2018-01-09 19:31:24 6 days 04:11:31\n",
       "4    28378 2018-01-18 02:11:41 2018-01-15 14:55:57 2 days 11:15:44"
      ]
     },
     "execution_count": 52,
     "metadata": {},
     "output_type": "execute_result"
    }
   ],
   "source": [
    "purchase_reg_easy[\"timedelta\"] = (\n",
    "    purchase_reg_easy[\"purchase_time\"] - purchase_reg_easy[\"registration_time\"]\n",
    ")\n",
    "purchase_reg_easy.head()               # Считаем временную разницу"
   ]
  },
  {
   "cell_type": "code",
   "execution_count": 53,
   "metadata": {},
   "outputs": [
    {
     "data": {
      "text/plain": [
       "count                          189\n",
       "mean     3 days 22:10:23.211640211\n",
       "std      2 days 07:14:41.062010764\n",
       "min                0 days 04:36:58\n",
       "25%                2 days 01:12:12\n",
       "50%                3 days 11:00:23\n",
       "75%                5 days 10:24:59\n",
       "max               11 days 00:35:04\n",
       "Name: timedelta, dtype: object"
      ]
     },
     "execution_count": 53,
     "metadata": {},
     "output_type": "execute_result"
    }
   ],
   "source": [
    "purchase_reg_easy[\"timedelta\"].describe()"
   ]
  },
  {
   "cell_type": "markdown",
   "metadata": {},
   "source": [
    "#### Уровень сложности medium"
   ]
  },
  {
   "cell_type": "code",
   "execution_count": 54,
   "metadata": {},
   "outputs": [],
   "source": [
    "purchase_medium = purchase_df_medium[[\"user_id\", \"event_datetime\"]].rename(\n",
    "    columns={\"event_datetime\": \"purchase_time\"}\n",
    ")            # Оставляем только нужные для вычислений столбцы"
   ]
  },
  {
   "cell_type": "code",
   "execution_count": 55,
   "metadata": {},
   "outputs": [],
   "source": [
    "purchase_reg_medium = purchase_medium.merge(registration_df, on=\"user_id\", how=\"inner\")\n"
   ]
  },
  {
   "cell_type": "code",
   "execution_count": 56,
   "metadata": {},
   "outputs": [
    {
     "data": {
      "text/html": [
       "<div>\n",
       "<style scoped>\n",
       "    .dataframe tbody tr th:only-of-type {\n",
       "        vertical-align: middle;\n",
       "    }\n",
       "\n",
       "    .dataframe tbody tr th {\n",
       "        vertical-align: top;\n",
       "    }\n",
       "\n",
       "    .dataframe thead th {\n",
       "        text-align: right;\n",
       "    }\n",
       "</style>\n",
       "<table border=\"1\" class=\"dataframe\">\n",
       "  <thead>\n",
       "    <tr style=\"text-align: right;\">\n",
       "      <th></th>\n",
       "      <th>user_id</th>\n",
       "      <th>purchase_time</th>\n",
       "      <th>registration_time</th>\n",
       "      <th>timedelta</th>\n",
       "    </tr>\n",
       "  </thead>\n",
       "  <tbody>\n",
       "    <tr>\n",
       "      <th>0</th>\n",
       "      <td>27981</td>\n",
       "      <td>2018-01-07 23:20:25</td>\n",
       "      <td>2018-01-07 08:09:09</td>\n",
       "      <td>0 days 15:11:16</td>\n",
       "    </tr>\n",
       "    <tr>\n",
       "      <th>1</th>\n",
       "      <td>28026</td>\n",
       "      <td>2018-01-09 20:51:27</td>\n",
       "      <td>2018-01-08 13:46:31</td>\n",
       "      <td>1 days 07:04:56</td>\n",
       "    </tr>\n",
       "    <tr>\n",
       "      <th>2</th>\n",
       "      <td>28010</td>\n",
       "      <td>2018-01-10 05:32:47</td>\n",
       "      <td>2018-01-07 22:19:23</td>\n",
       "      <td>2 days 07:13:24</td>\n",
       "    </tr>\n",
       "    <tr>\n",
       "      <th>3</th>\n",
       "      <td>28094</td>\n",
       "      <td>2018-01-10 13:44:50</td>\n",
       "      <td>2018-01-09 21:25:14</td>\n",
       "      <td>0 days 16:19:36</td>\n",
       "    </tr>\n",
       "    <tr>\n",
       "      <th>4</th>\n",
       "      <td>28035</td>\n",
       "      <td>2018-01-10 13:59:12</td>\n",
       "      <td>2018-01-08 17:49:55</td>\n",
       "      <td>1 days 20:09:17</td>\n",
       "    </tr>\n",
       "  </tbody>\n",
       "</table>\n",
       "</div>"
      ],
      "text/plain": [
       "   user_id       purchase_time   registration_time       timedelta\n",
       "0    27981 2018-01-07 23:20:25 2018-01-07 08:09:09 0 days 15:11:16\n",
       "1    28026 2018-01-09 20:51:27 2018-01-08 13:46:31 1 days 07:04:56\n",
       "2    28010 2018-01-10 05:32:47 2018-01-07 22:19:23 2 days 07:13:24\n",
       "3    28094 2018-01-10 13:44:50 2018-01-09 21:25:14 0 days 16:19:36\n",
       "4    28035 2018-01-10 13:59:12 2018-01-08 17:49:55 1 days 20:09:17"
      ]
     },
     "execution_count": 56,
     "metadata": {},
     "output_type": "execute_result"
    }
   ],
   "source": [
    "purchase_reg_medium[\"timedelta\"] = (\n",
    "    purchase_reg_medium[\"purchase_time\"] - purchase_reg_medium[\"registration_time\"]\n",
    ")\n",
    "purchase_reg_medium.head()               # Считаем временную разницу"
   ]
  },
  {
   "cell_type": "code",
   "execution_count": 57,
   "metadata": {},
   "outputs": [
    {
     "data": {
      "text/plain": [
       "count                          969\n",
       "mean     4 days 06:12:06.576883384\n",
       "std      2 days 06:25:57.480868026\n",
       "min                0 days 08:39:24\n",
       "25%                2 days 08:46:51\n",
       "50%                4 days 03:35:26\n",
       "75%                5 days 23:51:27\n",
       "max               10 days 20:34:02\n",
       "Name: timedelta, dtype: object"
      ]
     },
     "execution_count": 57,
     "metadata": {},
     "output_type": "execute_result"
    }
   ],
   "source": [
    "purchase_reg_medium[\"timedelta\"].describe()"
   ]
  },
  {
   "cell_type": "markdown",
   "metadata": {},
   "source": [
    "#### Уровень сложности hard"
   ]
  },
  {
   "cell_type": "code",
   "execution_count": 58,
   "metadata": {},
   "outputs": [],
   "source": [
    "purchase_hard = purchase_df_hard[[\"user_id\", \"event_datetime\"]].rename(\n",
    "    columns={\"event_datetime\": \"purchase_time\"}\n",
    ")            # Оставляем только нужные для вычислений столбцы"
   ]
  },
  {
   "cell_type": "code",
   "execution_count": 59,
   "metadata": {},
   "outputs": [],
   "source": [
    "purchase_reg_hard = purchase_hard.merge(registration_df, on=\"user_id\", how=\"inner\")"
   ]
  },
  {
   "cell_type": "code",
   "execution_count": 60,
   "metadata": {},
   "outputs": [
    {
     "data": {
      "text/html": [
       "<div>\n",
       "<style scoped>\n",
       "    .dataframe tbody tr th:only-of-type {\n",
       "        vertical-align: middle;\n",
       "    }\n",
       "\n",
       "    .dataframe tbody tr th {\n",
       "        vertical-align: top;\n",
       "    }\n",
       "\n",
       "    .dataframe thead th {\n",
       "        text-align: right;\n",
       "    }\n",
       "</style>\n",
       "<table border=\"1\" class=\"dataframe\">\n",
       "  <thead>\n",
       "    <tr style=\"text-align: right;\">\n",
       "      <th></th>\n",
       "      <th>user_id</th>\n",
       "      <th>purchase_time</th>\n",
       "      <th>registration_time</th>\n",
       "      <th>timedelta</th>\n",
       "    </tr>\n",
       "  </thead>\n",
       "  <tbody>\n",
       "    <tr>\n",
       "      <th>0</th>\n",
       "      <td>27845</td>\n",
       "      <td>2018-01-03 18:53:43</td>\n",
       "      <td>2018-01-02 01:35:56</td>\n",
       "      <td>1 days 17:17:47</td>\n",
       "    </tr>\n",
       "    <tr>\n",
       "      <th>1</th>\n",
       "      <td>27865</td>\n",
       "      <td>2018-01-04 14:46:10</td>\n",
       "      <td>2018-01-03 11:14:57</td>\n",
       "      <td>1 days 03:31:13</td>\n",
       "    </tr>\n",
       "    <tr>\n",
       "      <th>2</th>\n",
       "      <td>27911</td>\n",
       "      <td>2018-01-07 08:19:12</td>\n",
       "      <td>2018-01-05 10:48:24</td>\n",
       "      <td>1 days 21:30:48</td>\n",
       "    </tr>\n",
       "    <tr>\n",
       "      <th>3</th>\n",
       "      <td>27910</td>\n",
       "      <td>2018-01-07 12:11:34</td>\n",
       "      <td>2018-01-05 10:45:33</td>\n",
       "      <td>2 days 01:26:01</td>\n",
       "    </tr>\n",
       "    <tr>\n",
       "      <th>4</th>\n",
       "      <td>27940</td>\n",
       "      <td>2018-01-07 13:16:41</td>\n",
       "      <td>2018-01-05 23:41:24</td>\n",
       "      <td>1 days 13:35:17</td>\n",
       "    </tr>\n",
       "  </tbody>\n",
       "</table>\n",
       "</div>"
      ],
      "text/plain": [
       "   user_id       purchase_time   registration_time       timedelta\n",
       "0    27845 2018-01-03 18:53:43 2018-01-02 01:35:56 1 days 17:17:47\n",
       "1    27865 2018-01-04 14:46:10 2018-01-03 11:14:57 1 days 03:31:13\n",
       "2    27911 2018-01-07 08:19:12 2018-01-05 10:48:24 1 days 21:30:48\n",
       "3    27910 2018-01-07 12:11:34 2018-01-05 10:45:33 2 days 01:26:01\n",
       "4    27940 2018-01-07 13:16:41 2018-01-05 23:41:24 1 days 13:35:17"
      ]
     },
     "execution_count": 60,
     "metadata": {},
     "output_type": "execute_result"
    }
   ],
   "source": [
    "purchase_reg_hard[\"timedelta\"] = (\n",
    "    purchase_reg_hard[\"purchase_time\"] - purchase_reg_hard[\"registration_time\"]\n",
    ")\n",
    "purchase_reg_hard.head()               # Считаем временную разницу"
   ]
  },
  {
   "cell_type": "code",
   "execution_count": 61,
   "metadata": {},
   "outputs": [
    {
     "data": {
      "text/plain": [
       "count                          442\n",
       "mean     3 days 14:55:19.257918552\n",
       "std      1 days 22:22:52.441896774\n",
       "min                0 days 09:41:39\n",
       "25%         1 days 23:36:25.500000\n",
       "50%         3 days 10:10:04.500000\n",
       "75%         5 days 03:30:07.750000\n",
       "max                8 days 14:21:29\n",
       "Name: timedelta, dtype: object"
      ]
     },
     "execution_count": 61,
     "metadata": {},
     "output_type": "execute_result"
    }
   ],
   "source": [
    "purchase_reg_hard[\"timedelta\"].describe()"
   ]
  },
  {
   "cell_type": "markdown",
   "metadata": {},
   "source": [
    "Среднее время между регистрацией и оплатой по уровням сложности:\n",
    "- easy - 3 days 22:10:23;\n",
    "- medium - 4 days 06:12:06;\n",
    "- hard - 3 days 14:55:19.\n",
    "\n",
    "Как и в предыдущих данных среднее время между регистрацией и первой покупкой минимально у группы пользователей с выбором уровня сложности hard. Самое большре значение у группы пользователей с уровнем сложности medium. Следует также отметить, что у группы пользователей с выбором уровня сложности hard также наблюдается разница с другими двумя уровнями сложностей более двух с половиной суток в значении максимального временного промежутка."
   ]
  },
  {
   "cell_type": "markdown",
   "metadata": {},
   "source": [
    "Из приведённых данных можно сделать вывод, что группы пользователей с высоким уровнем сложности более расположены к покупкам"
   ]
  }
 ],
 "metadata": {
  "interpreter": {
   "hash": "34b4afe48725f1717edf4c388b6eb8fce3cc017ac42b6b1b43d89f07ceab0b1b"
  },
  "kernelspec": {
   "display_name": "Python 3 (ipykernel)",
   "language": "python",
   "name": "python3"
  },
  "language_info": {
   "codemirror_mode": {
    "name": "ipython",
    "version": 3
   },
   "file_extension": ".py",
   "mimetype": "text/x-python",
   "name": "python",
   "nbconvert_exporter": "python",
   "pygments_lexer": "ipython3",
   "version": "3.10.1"
  }
 },
 "nbformat": 4,
 "nbformat_minor": 4
}
