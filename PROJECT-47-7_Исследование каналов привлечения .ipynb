{
 "cells": [
  {
   "cell_type": "markdown",
   "metadata": {},
   "source": [
    "# ЗАДАНИЕ\n",
    "\n",
    "- Оценить количество ботов, которые заходят на наш сайт, и их долю от всего трафика.\n",
    "- Определить, с каких источников и в какое время суток чаще всего заходят роботы."
   ]
  },
  {
   "cell_type": "code",
   "execution_count": 1,
   "metadata": {},
   "outputs": [],
   "source": [
    "# Загрузка нужных бибриотек\n",
    "import json \n",
    "import requests\n",
    "from pprint import pprint\n",
    "import pandas as pd\n",
    "import matplotlib.pyplot as plt"
   ]
  },
  {
   "cell_type": "code",
   "execution_count": 2,
   "metadata": {},
   "outputs": [],
   "source": [
    "token = 'AQAAAAAPFkraAAe5thqIDFqJPEyAuHxMMd0sPIo'\n",
    "headers = {'Authorization': 'OAuth ' + token}"
   ]
  },
  {
   "cell_type": "markdown",
   "metadata": {},
   "source": [
    "## Запрос к метрикам: \n",
    "- Метрики - количество визитов и доля визитов посетителей, предположительно являющихся роботами.\n",
    "- Группировка - последний значимый источник, время посещения, признак isRobot"
   ]
  },
  {
   "cell_type": "code",
   "execution_count": 3,
   "metadata": {},
   "outputs": [],
   "source": [
    "params = {'metrics': 'ym:s:visits,ym:s:robotPercentage',\n",
    "          'dimensions':'ym:s:lastsignTrafficSource,ym:s:hour,ym:s:isRobot',\n",
    "          'date1': '2020-09-01',\n",
    "          'date2': '2020-09-30',\n",
    "          'ids': 30177909,\n",
    "          'accuracy':'full',\n",
    "          'limit':100000}\n",
    "response = requests.get('https://api-metrika.yandex.net/stat/v1/data', params=params, headers=headers)\n",
    "#print (response.status_code)\n",
    "metrika_data = response.json()"
   ]
  },
  {
   "cell_type": "markdown",
   "metadata": {},
   "source": [
    "## Преобразование данных в таблицу DF"
   ]
  },
  {
   "cell_type": "markdown",
   "metadata": {},
   "source": [
    "Функция преобразования данных в плоский вид, избавление от вложенных словарей"
   ]
  },
  {
   "cell_type": "code",
   "execution_count": 4,
   "metadata": {},
   "outputs": [],
   "source": [
    "def getMetrikaDataInListOfDicts(metrika_data):\n",
    "    list_of_dicts = []\n",
    "    dimensions_list = metrika_data['query']['dimensions']\n",
    "    metrics_list = metrika_data['query']['metrics']\n",
    "    for data_item in metrika_data['data']:\n",
    "        d = {}\n",
    "        for i,dimension in enumerate(data_item['dimensions']):\n",
    "            d[dimensions_list[i]] = dimension['name']\n",
    "        for i,metric in enumerate(data_item['metrics']):\n",
    "            d[metrics_list[i]] = metric\n",
    "        list_of_dicts.append(d)\n",
    "    return list_of_dicts"
   ]
  },
  {
   "cell_type": "code",
   "execution_count": 5,
   "metadata": {},
   "outputs": [],
   "source": [
    "metrika_list_of_dicts = getMetrikaDataInListOfDicts(metrika_data) # применение функции к DF\n",
    "#pprint(metrika_list_of_dicts[0:5])"
   ]
  },
  {
   "cell_type": "code",
   "execution_count": 6,
   "metadata": {},
   "outputs": [
    {
     "data": {
      "text/html": [
       "<div>\n",
       "<style scoped>\n",
       "    .dataframe tbody tr th:only-of-type {\n",
       "        vertical-align: middle;\n",
       "    }\n",
       "\n",
       "    .dataframe tbody tr th {\n",
       "        vertical-align: top;\n",
       "    }\n",
       "\n",
       "    .dataframe thead th {\n",
       "        text-align: right;\n",
       "    }\n",
       "</style>\n",
       "<table border=\"1\" class=\"dataframe\">\n",
       "  <thead>\n",
       "    <tr style=\"text-align: right;\">\n",
       "      <th></th>\n",
       "      <th>source</th>\n",
       "      <th>visit_time</th>\n",
       "      <th>people_robot</th>\n",
       "      <th>visits</th>\n",
       "      <th>robot_visits%</th>\n",
       "    </tr>\n",
       "  </thead>\n",
       "  <tbody>\n",
       "    <tr>\n",
       "      <th>0</th>\n",
       "      <td>Search engine traffic</td>\n",
       "      <td>16:00</td>\n",
       "      <td>People</td>\n",
       "      <td>189.0</td>\n",
       "      <td>0.0</td>\n",
       "    </tr>\n",
       "    <tr>\n",
       "      <th>1</th>\n",
       "      <td>Search engine traffic</td>\n",
       "      <td>15:00</td>\n",
       "      <td>People</td>\n",
       "      <td>177.0</td>\n",
       "      <td>0.0</td>\n",
       "    </tr>\n",
       "    <tr>\n",
       "      <th>2</th>\n",
       "      <td>Search engine traffic</td>\n",
       "      <td>11:00</td>\n",
       "      <td>People</td>\n",
       "      <td>169.0</td>\n",
       "      <td>0.0</td>\n",
       "    </tr>\n",
       "    <tr>\n",
       "      <th>3</th>\n",
       "      <td>Search engine traffic</td>\n",
       "      <td>12:00</td>\n",
       "      <td>People</td>\n",
       "      <td>169.0</td>\n",
       "      <td>0.0</td>\n",
       "    </tr>\n",
       "    <tr>\n",
       "      <th>4</th>\n",
       "      <td>Search engine traffic</td>\n",
       "      <td>14:00</td>\n",
       "      <td>People</td>\n",
       "      <td>167.0</td>\n",
       "      <td>0.0</td>\n",
       "    </tr>\n",
       "    <tr>\n",
       "      <th>...</th>\n",
       "      <td>...</td>\n",
       "      <td>...</td>\n",
       "      <td>...</td>\n",
       "      <td>...</td>\n",
       "      <td>...</td>\n",
       "    </tr>\n",
       "    <tr>\n",
       "      <th>177</th>\n",
       "      <td>Social network traffic</td>\n",
       "      <td>16:00</td>\n",
       "      <td>People</td>\n",
       "      <td>1.0</td>\n",
       "      <td>0.0</td>\n",
       "    </tr>\n",
       "    <tr>\n",
       "      <th>178</th>\n",
       "      <td>Social network traffic</td>\n",
       "      <td>16:00</td>\n",
       "      <td>Robots</td>\n",
       "      <td>1.0</td>\n",
       "      <td>100.0</td>\n",
       "    </tr>\n",
       "    <tr>\n",
       "      <th>179</th>\n",
       "      <td>Social network traffic</td>\n",
       "      <td>21:00</td>\n",
       "      <td>Robots</td>\n",
       "      <td>1.0</td>\n",
       "      <td>100.0</td>\n",
       "    </tr>\n",
       "    <tr>\n",
       "      <th>180</th>\n",
       "      <td>Recommendation system traffic</td>\n",
       "      <td>08:00</td>\n",
       "      <td>People</td>\n",
       "      <td>1.0</td>\n",
       "      <td>0.0</td>\n",
       "    </tr>\n",
       "    <tr>\n",
       "      <th>181</th>\n",
       "      <td>Recommendation system traffic</td>\n",
       "      <td>14:00</td>\n",
       "      <td>People</td>\n",
       "      <td>1.0</td>\n",
       "      <td>0.0</td>\n",
       "    </tr>\n",
       "  </tbody>\n",
       "</table>\n",
       "<p>182 rows × 5 columns</p>\n",
       "</div>"
      ],
      "text/plain": [
       "                            source visit_time people_robot  visits  \\\n",
       "0            Search engine traffic      16:00       People   189.0   \n",
       "1            Search engine traffic      15:00       People   177.0   \n",
       "2            Search engine traffic      11:00       People   169.0   \n",
       "3            Search engine traffic      12:00       People   169.0   \n",
       "4            Search engine traffic      14:00       People   167.0   \n",
       "..                             ...        ...          ...     ...   \n",
       "177         Social network traffic      16:00       People     1.0   \n",
       "178         Social network traffic      16:00       Robots     1.0   \n",
       "179         Social network traffic      21:00       Robots     1.0   \n",
       "180  Recommendation system traffic      08:00       People     1.0   \n",
       "181  Recommendation system traffic      14:00       People     1.0   \n",
       "\n",
       "     robot_visits%  \n",
       "0              0.0  \n",
       "1              0.0  \n",
       "2              0.0  \n",
       "3              0.0  \n",
       "4              0.0  \n",
       "..             ...  \n",
       "177            0.0  \n",
       "178          100.0  \n",
       "179          100.0  \n",
       "180            0.0  \n",
       "181            0.0  \n",
       "\n",
       "[182 rows x 5 columns]"
      ]
     },
     "metadata": {},
     "output_type": "display_data"
    }
   ],
   "source": [
    "metrika_df = pd.DataFrame(metrika_list_of_dicts) # приобразование обработанной таблицы в DF\n",
    "metrika_df.columns=['source','visit_time','people_robot','visits','robot_visits%'] # переименование столбцов\n",
    "display(metrika_df)"
   ]
  },
  {
   "cell_type": "markdown",
   "metadata": {},
   "source": [
    "## 1. Рассчитаем количество ботов и их долю от всего трафика"
   ]
  },
  {
   "cell_type": "code",
   "execution_count": 7,
   "metadata": {},
   "outputs": [
    {
     "name": "stdout",
     "output_type": "stream",
     "text": [
      "Количество всего посещений за сентябрь 2020: 4315.0 шт\n",
      "Количество ботов за сентябрь 2020: 962.0 шт\n",
      "Доля ботов от всего трафика: 22.29 %\n"
     ]
    },
    {
     "data": {
      "image/png": "[encoded data removed]",
      "text/plain": [
       "<Figure size 360x360 with 1 Axes>"
      ]
     },
     "metadata": {},
     "output_type": "display_data"
    }
   ],
   "source": [
    "amount_visit_robot = metrika_df[metrika_df['people_robot']=='Robots']['visits'].sum()\n",
    "amount_visit_all = metrika_df['visits'].sum()\n",
    "percentage_visit_robot = amount_visit_robot/amount_visit_all*100\n",
    "amount_visit = metrika_df.groupby('people_robot')['visits'].sum()\n",
    "\n",
    "# график\n",
    "fig = plt.figure(figsize=(5, 5))\n",
    "axes = fig.add_axes([0, 0, 1, 1])\n",
    "axes.pie(\n",
    "    amount_visit,\n",
    "    labels=amount_visit.index,\n",
    "    autopct= '%.2f%%',\n",
    "    colors = ('blue', 'grey'),\n",
    "    explode = [0, 0]\n",
    ");\n",
    "print('Количество всего посещений за сентябрь 2020:', amount_visit_all, 'шт')\n",
    "print('Количество ботов за сентябрь 2020:', amount_visit_robot, 'шт')\n",
    "print('Доля ботов от всего трафика:', round(percentage_visit_robot, 2),'%')"
   ]
  },
  {
   "cell_type": "markdown",
   "metadata": {},
   "source": [
    "*Количество ботов составляет практически 1/4 долю всех посещений сайта - 22.29%, в количественном содержании - 962 из 4 315 посещений.*"
   ]
  },
  {
   "cell_type": "markdown",
   "metadata": {},
   "source": [
    "## 2. Определим с каких источников и в какое время суток чаще всего заходят роботы."
   ]
  },
  {
   "cell_type": "markdown",
   "metadata": {},
   "source": [
    "### Определим источник посещения с максимальным количеством ботов:"
   ]
  },
  {
   "cell_type": "markdown",
   "metadata": {},
   "source": [
    "Для этого создадим сводную таблицу с подсчетом визитов ботов на наш сайт сгруппированную по источникам посещений:"
   ]
  },
  {
   "cell_type": "code",
   "execution_count": 8,
   "metadata": {},
   "outputs": [
    {
     "name": "stdout",
     "output_type": "stream",
     "text": [
      "                        visits  visits,%\n",
      "source                                  \n",
      "Search engine traffic      739     76.82\n",
      "Direct traffic             177     18.40\n",
      "Link traffic                31      3.22\n",
      "Social network traffic      11      1.14\n",
      "Internal traffic             3      0.31\n",
      "Cached page traffic          1      0.10\n"
     ]
    },
    {
     "data": {
      "image/png": "[encoded data removed]",
      "text/plain": [
       "<Figure size 720x360 with 1 Axes>"
      ]
     },
     "metadata": {},
     "output_type": "display_data"
    }
   ],
   "source": [
    "pt_robot_source = metrika_df.loc[metrika_df['people_robot'].isin(['Robots'])].pivot_table(values = ['visits'],\n",
    "                                              index = ['source'],\n",
    "                                              aggfunc = 'sum',\n",
    "                                              fill_value = 0,\n",
    "                                              )\n",
    "pt_robot_source['visits,%'] = round(pt_robot_source['visits']/pt_robot_source['visits'].sum()*100,2)\n",
    "print(pt_robot_source.sort_values('visits', ascending=False))\n",
    "\n",
    "# график\n",
    "fig = plt.figure(figsize=(10, 5), facecolor='white')\n",
    "main_axes = fig.add_axes([0, 0, 1, 1])\n",
    "main_axes.scatter(\n",
    "    x = pt_robot_source.index,\n",
    "    y = pt_robot_source.visits,\n",
    "    s = 200\n",
    "    );\n",
    "plt.grid(which='major') # включаем основную сетку"
   ]
  },
  {
   "cell_type": "markdown",
   "metadata": {},
   "source": [
    "*Как видно на графике источнику Search engine traffic принадлежит самое большое количество посещений роботами. \n",
    "Доля посещений из этого источника составляет 76,82%.*"
   ]
  },
  {
   "cell_type": "markdown",
   "metadata": {},
   "source": [
    "##### Определим долю посещений роботами по источникам"
   ]
  },
  {
   "cell_type": "code",
   "execution_count": 9,
   "metadata": {},
   "outputs": [
    {
     "name": "stdout",
     "output_type": "stream",
     "text": [
      "                               visits_all  visits_bot  percentage_visit_bot\n",
      "source                                                                     \n",
      "Search engine traffic                3334       739.0                 22.17\n",
      "Direct traffic                        757       177.0                 23.38\n",
      "Link traffic                          126        31.0                 24.60\n",
      "Social network traffic                 80        11.0                 13.75\n",
      "Internal traffic                       10         3.0                 30.00\n",
      "Cached page traffic                     6         1.0                 16.67\n",
      "Recommendation system traffic           2         NaN                   NaN\n"
     ]
    }
   ],
   "source": [
    "pt_source_all = metrika_df.pivot_table(values = ['visits'],     # создаём сводную таблицуё\n",
    "                                              index = ['source'],\n",
    "                                              aggfunc = 'sum',\n",
    "                                              fill_value = 0\n",
    "                                              )\n",
    "pt_source_all.columns = ['visits_all'] # переименоние столбца\n",
    "\n",
    "pt_source_all['visits_bot'] = pt_robot_source['visits'] # добавляем столбец с данными по посещениям ботов\n",
    "pt_source_all['percentage_visit_bot'] = round(pt_robot_source['visits']/pt_source_all['visits_all']*100,2) # вычисляем долю ботов\n",
    "print(pt_source_all.sort_values('visits_all', ascending=False))"
   ]
  },
  {
   "cell_type": "markdown",
   "metadata": {},
   "source": [
    "*Как видим самая большая доля ботов приходит с источника Internal traffic = 30%, но в количественном выражении их значение незначительно. Из источников Search engine traffic, Direct traffic, Link traffic приходит примерно одинаковый процент ботов - в среднем 23,38%.*"
   ]
  },
  {
   "cell_type": "markdown",
   "metadata": {},
   "source": [
    "### Определим в какое время чаще всего происходят посещения ботами сайта."
   ]
  },
  {
   "cell_type": "code",
   "execution_count": 10,
   "metadata": {},
   "outputs": [
    {
     "name": "stdout",
     "output_type": "stream",
     "text": [
      "            visits\n",
      "visit_time        \n",
      "13:00           80\n",
      "12:00           75\n",
      "16:00           75\n",
      "14:00           74\n",
      "15:00           71\n",
      "11:00           70\n",
      "17:00           66\n",
      "09:00           51\n",
      "10:00           51\n",
      "19:00           48\n",
      "21:00           43\n",
      "18:00           41\n",
      "22:00           40\n",
      "20:00           36\n",
      "08:00           36\n",
      "23:00           30\n",
      "00:00           19\n",
      "01:00           13\n",
      "07:00           12\n",
      "06:00            8\n",
      "02:00            7\n",
      "04:00            6\n",
      "03:00            6\n",
      "05:00            4\n"
     ]
    },
    {
     "data": {
      "image/png": "[encoded data removed]",
      "text/plain": [
       "<Figure size 936x360 with 1 Axes>"
      ]
     },
     "metadata": {},
     "output_type": "display_data"
    }
   ],
   "source": [
    "pt_robot_source_time = metrika_df.loc[metrika_df['people_robot'].isin(['Robots'])].pivot_table(values = ['visits'],\n",
    "                                              index = ['visit_time'],\n",
    "                                              aggfunc = 'sum',\n",
    "                                              fill_value = 0,\n",
    "                                              )\n",
    "print(pt_robot_source_time.sort_values('visits', ascending=False))\n",
    "\n",
    "# график\n",
    "fig = plt.figure(figsize=(13, 5), facecolor='white')\n",
    "main_axes = fig.add_axes([0, 0, 1, 1])\n",
    "main_axes.scatter(\n",
    "    x = pt_robot_source_time.index,\n",
    "    y = pt_robot_source_time.visits,\n",
    "    s = 200\n",
    "    );\n",
    "plt.grid(which='major') # включаем основную сетку"
   ]
  },
  {
   "cell_type": "markdown",
   "metadata": {},
   "source": [
    "*Как видно на графике максимальная активность ботов с 11 до 17 часов. Пик активности приходится на 13 часов.*"
   ]
  },
  {
   "cell_type": "markdown",
   "metadata": {},
   "source": [
    "### Выводы:\n",
    "\n",
    "Количество ботов составляет практически 1/4 долю всех посещений сайта - 22.29%, в количественном содержании - 962 из 4 315 посещений. Источнику Search engine traffic принадлежит самое большое количество посещений роботами. \n",
    "Доля посещений из этого источника составляет 76,82% от общего количества посещений ботами по всем источникам. Доля ботов от общего количества посещений (люди+боты) с источника Search engine traffic составляет 22,17%.  Максимальная активность ботов происходит с 11 до 17 часов. Пик активности приходится на 13 часов."
   ]
  }
 ],
 "metadata": {
  "interpreter": {
   "hash": "34b4afe48725f1717edf4c388b6eb8fce3cc017ac42b6b1b43d89f07ceab0b1b"
  },
  "kernelspec": {
   "display_name": "Python 3.10.1 64-bit (system)",
   "language": "python",
   "name": "python3"
  },
  "language_info": {
   "codemirror_mode": {
    "name": "ipython",
    "version": 3
   },
   "file_extension": ".py",
   "mimetype": "text/x-python",
   "name": "python",
   "nbconvert_exporter": "python",
   "pygments_lexer": "ipython3",
   "version": "3.10.1"
  },
  "orig_nbformat": 4
 },
 "nbformat": 4,
 "nbformat_minor": 2
}
